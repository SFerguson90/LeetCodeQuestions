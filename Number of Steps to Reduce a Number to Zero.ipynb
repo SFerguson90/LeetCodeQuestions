{
 "cells": [
  {
   "cell_type": "markdown",
   "metadata": {},
   "source": [
    "# Number of Steps to Reduce a Number to Zero"
   ]
  },
  {
   "cell_type": "markdown",
   "metadata": {},
   "source": [
    "#### Input: num = 14\n",
    "##### Output: 6\n",
    "\n",
    "##### Step 1) 14 is even; divide by 2 and obtain 7. \n",
    "##### Step 2) 7 is odd; subtract 1 and obtain 6.\n",
    "##### Step 3) 6 is even; divide by 2 and obtain 3. \n",
    "##### Step 4) 3 is odd; subtract 1 and obtain 2. \n",
    "##### Step 5) 2 is even; divide by 2 and obtain 1. \n",
    "##### Step 6) 1 is odd; subtract 1 and obtain 0.\n",
    "\n",
    "##### Input: num = 8\n",
    "##### Output: 4\n",
    "##### Explanation: \n",
    "##### Step 1) 8 is even; divide by 2 and obtain 4. \n",
    "##### Step 2) 4 is even; divide by 2 and obtain 2. \n",
    "##### Step 3) 2 is even; divide by 2 and obtain 1. \n",
    "##### Step 4) 1 is odd; subtract 1 and obtain 0.\n",
    "\n",
    "##### Input: num = 123\n",
    "##### Output: 12"
   ]
  },
  {
   "cell_type": "code",
   "execution_count": 2,
   "metadata": {},
   "outputs": [],
   "source": [
    "num = 14"
   ]
  },
  {
   "cell_type": "code",
   "execution_count": 26,
   "metadata": {},
   "outputs": [],
   "source": [
    "def numberOfSteps(num):\n",
    "   \n",
    "    obtain = num\n",
    "    counter = 0\n",
    "    while obtain != 0:\n",
    "        if num % 2 == 0:\n",
    "            obtain = num\n",
    "            print(f\"{int(num)} is even; divide by 2 and obtain {int(obtain)}.\")\n",
    "            obtain = num/2\n",
    "            num = obtain\n",
    "            counter += 1\n",
    "            \n",
    "        elif num % 2 == 1:\n",
    "            obtain = num\n",
    "            print(f\"{int(num)} is odd; subtract 1 and obtain {int(obtain)}.\")\n",
    "            obtain = num-1\n",
    "            num = obtain\n",
    "            counter += 1\n",
    "            \n",
    "    return counter"
   ]
  },
  {
   "cell_type": "code",
   "execution_count": 27,
   "metadata": {},
   "outputs": [
    {
     "name": "stdout",
     "output_type": "stream",
     "text": [
      "8 is even; divide by 2 and obtain 8.\n",
      "4 is even; divide by 2 and obtain 4.\n",
      "2 is even; divide by 2 and obtain 2.\n",
      "1 is odd; subtract 1 and obtain 1.\n"
     ]
    },
    {
     "data": {
      "text/plain": [
       "4"
      ]
     },
     "execution_count": 27,
     "metadata": {},
     "output_type": "execute_result"
    }
   ],
   "source": [
    "numberOfSteps(8)"
   ]
  },
  {
   "cell_type": "code",
   "execution_count": null,
   "metadata": {},
   "outputs": [],
   "source": []
  },
  {
   "cell_type": "code",
   "execution_count": null,
   "metadata": {},
   "outputs": [],
   "source": []
  },
  {
   "cell_type": "code",
   "execution_count": null,
   "metadata": {},
   "outputs": [],
   "source": []
  },
  {
   "cell_type": "code",
   "execution_count": null,
   "metadata": {},
   "outputs": [],
   "source": []
  }
 ],
 "metadata": {
  "kernelspec": {
   "display_name": "Python 3",
   "language": "python",
   "name": "python3"
  },
  "language_info": {
   "codemirror_mode": {
    "name": "ipython",
    "version": 3
   },
   "file_extension": ".py",
   "mimetype": "text/x-python",
   "name": "python",
   "nbconvert_exporter": "python",
   "pygments_lexer": "ipython3",
   "version": "3.7.9"
  }
 },
 "nbformat": 4,
 "nbformat_minor": 4
}
