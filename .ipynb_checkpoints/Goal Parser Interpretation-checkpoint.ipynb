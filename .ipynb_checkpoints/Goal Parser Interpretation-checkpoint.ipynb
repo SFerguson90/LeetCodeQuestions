{
 "cells": [
  {
   "cell_type": "markdown",
   "metadata": {},
   "source": [
    "Input: command = \"G()(al)\"\n",
    "Output: \"Goal\"\n",
    "Explanation: The Goal Parser interprets the command as follows:\n",
    "G -> G\n",
    "() -> o\n",
    "(al) -> al\n",
    "The final concatenated result is \"Goal\".\n",
    "\n",
    "----------------------------------------------------------------\n",
    "\n",
    "Input: command = \"G()()()()(al)\"\n",
    "Output: \"Gooooal\"\n",
    "\n",
    "----------------------------------------------------------------\n",
    "\n",
    "Input: command = \"(al)G(al)()()G\"\n",
    "Output: \"alGalooG\"\n",
    "\n",
    "----------------------------------------------------------------\n",
    "\n",
    "CONSTRAINTS\n",
    "\n",
    "1 <= command.length <= 100\n",
    "command consists of \"G\", \"()\", and/or \"(al)\" in some order."
   ]
  },
  {
   "cell_type": "code",
   "execution_count": 41,
   "metadata": {},
   "outputs": [],
   "source": [
    "def interpret(command):\n",
    "        \n",
    "    g = \"G\"\n",
    "    o = \"()\"\n",
    "    al = \"(al)\"\n",
    "    \n",
    "    return command.replace(g, \"G\").replace(o, \"o\").replace(al, \"al\")"
   ]
  },
  {
   "cell_type": "code",
   "execution_count": 42,
   "metadata": {},
   "outputs": [
    {
     "data": {
      "text/plain": [
       "'Gooooal'"
      ]
     },
     "execution_count": 42,
     "metadata": {},
     "output_type": "execute_result"
    }
   ],
   "source": [
    "interpret(\"G()()()()(al)\")"
   ]
  },
  {
   "cell_type": "code",
   "execution_count": 38,
   "metadata": {},
   "outputs": [
    {
     "data": {
      "text/plain": [
       "'Gooooal'"
      ]
     },
     "execution_count": 38,
     "metadata": {},
     "output_type": "execute_result"
    }
   ],
   "source": [
    "test = \"G()()()()(al)\"\n",
    "\n",
    "g = \"G\"\n",
    "o = \"()\"\n",
    "al = \"(al)\"\n",
    "\n",
    "\n",
    "test.replace(o, \"o\").replace(g, \"G\").replace(al, \"al\")"
   ]
  },
  {
   "cell_type": "code",
   "execution_count": null,
   "metadata": {},
   "outputs": [],
   "source": [
    "class Solution:\n",
    "    \n",
    "    def interpret(self, command: str) -> str:\n",
    "        \n",
    "        g = \"G\"\n",
    "        o = \"()\"\n",
    "        al = \"(al)\"\n",
    "    \n",
    "        return command.replace(g, \"G\").replace(o, \"o\").replace(al, \"al\")"
   ]
  }
 ],
 "metadata": {
  "kernelspec": {
   "display_name": "Python 3",
   "language": "python",
   "name": "python3"
  },
  "language_info": {
   "codemirror_mode": {
    "name": "ipython",
    "version": 3
   },
   "file_extension": ".py",
   "mimetype": "text/x-python",
   "name": "python",
   "nbconvert_exporter": "python",
   "pygments_lexer": "ipython3",
   "version": "3.7.9"
  }
 },
 "nbformat": 4,
 "nbformat_minor": 4
}
